{
 "cells": [
  {
   "cell_type": "code",
   "execution_count": 1,
   "id": "0874fd14",
   "metadata": {
    "_cell_guid": "b1076dfc-b9ad-4769-8c92-a6c4dae69d19",
    "_uuid": "8f2839f25d086af736a60e9eeb907d3b93b6e0e5",
    "execution": {
     "iopub.execute_input": "2021-11-17T16:18:00.864429Z",
     "iopub.status.busy": "2021-11-17T16:18:00.859166Z",
     "iopub.status.idle": "2021-11-17T16:18:00.886063Z",
     "shell.execute_reply": "2021-11-17T16:18:00.885239Z",
     "shell.execute_reply.started": "2021-11-17T16:16:39.445362Z"
    },
    "papermill": {
     "duration": 0.061016,
     "end_time": "2021-11-17T16:18:00.886235",
     "exception": false,
     "start_time": "2021-11-17T16:18:00.825219",
     "status": "completed"
    },
    "tags": []
   },
   "outputs": [
    {
     "name": "stdout",
     "output_type": "stream",
     "text": [
      "/kaggle/input/depression-anxiety-stress-scales/DASS_data_21.02.19/demo1.png\n",
      "/kaggle/input/depression-anxiety-stress-scales/DASS_data_21.02.19/codebook.txt\n",
      "/kaggle/input/depression-anxiety-stress-scales/DASS_data_21.02.19/data.csv\n"
     ]
    }
   ],
   "source": [
    "# This Python 3 environment comes with many helpful analytics libraries installed\n",
    "# It is defined by the kaggle/python Docker image: https://github.com/kaggle/docker-python\n",
    "# For example, here's several helpful packages to load\n",
    "\n",
    "import numpy as np # linear algebra\n",
    "import pandas as pd # data processing, CSV file I/O (e.g. pd.read_csv)\n",
    "\n",
    "# Input data files are available in the read-only \"../input/\" directory\n",
    "# For example, running this (by clicking run or pressing Shift+Enter) will list all files under the input directory\n",
    "\n",
    "import os\n",
    "for dirname, _, filenames in os.walk('/kaggle/input'):\n",
    "    for filename in filenames:\n",
    "        print(os.path.join(dirname, filename))\n",
    "\n",
    "# You can write up to 20GB to the current directory (/kaggle/working/) that gets preserved as output when you create a version using \"Save & Run All\" \n",
    "# You can also write temporary files to /kaggle/temp/, but they won't be saved outside of the current session"
   ]
  },
  {
   "cell_type": "code",
   "execution_count": 2,
   "id": "eedb1a10",
   "metadata": {
    "execution": {
     "iopub.execute_input": "2021-11-17T16:18:00.936045Z",
     "iopub.status.busy": "2021-11-17T16:18:00.935247Z",
     "iopub.status.idle": "2021-11-17T16:18:09.301271Z",
     "shell.execute_reply": "2021-11-17T16:18:09.301884Z",
     "shell.execute_reply.started": "2021-11-17T16:16:39.457686Z"
    },
    "papermill": {
     "duration": 8.391288,
     "end_time": "2021-11-17T16:18:09.302075",
     "exception": false,
     "start_time": "2021-11-17T16:18:00.910787",
     "status": "completed"
    },
    "tags": []
   },
   "outputs": [],
   "source": [
    "df = pd.read_csv('../input/depression-anxiety-stress-scales/DASS_data_21.02.19/data.csv', sep=r'\\t', engine='python')"
   ]
  },
  {
   "cell_type": "code",
   "execution_count": 3,
   "id": "c05310f1",
   "metadata": {
    "execution": {
     "iopub.execute_input": "2021-11-17T16:18:09.348992Z",
     "iopub.status.busy": "2021-11-17T16:18:09.348345Z",
     "iopub.status.idle": "2021-11-17T16:18:09.376408Z",
     "shell.execute_reply": "2021-11-17T16:18:09.375737Z",
     "shell.execute_reply.started": "2021-11-17T16:16:48.924277Z"
    },
    "papermill": {
     "duration": 0.052474,
     "end_time": "2021-11-17T16:18:09.376550",
     "exception": false,
     "start_time": "2021-11-17T16:18:09.324076",
     "status": "completed"
    },
    "tags": []
   },
   "outputs": [
    {
     "data": {
      "text/html": [
       "<div>\n",
       "<style scoped>\n",
       "    .dataframe tbody tr th:only-of-type {\n",
       "        vertical-align: middle;\n",
       "    }\n",
       "\n",
       "    .dataframe tbody tr th {\n",
       "        vertical-align: top;\n",
       "    }\n",
       "\n",
       "    .dataframe thead th {\n",
       "        text-align: right;\n",
       "    }\n",
       "</style>\n",
       "<table border=\"1\" class=\"dataframe\">\n",
       "  <thead>\n",
       "    <tr style=\"text-align: right;\">\n",
       "      <th></th>\n",
       "      <th>Q1A</th>\n",
       "      <th>Q1I</th>\n",
       "      <th>Q1E</th>\n",
       "      <th>Q2A</th>\n",
       "      <th>Q2I</th>\n",
       "      <th>Q2E</th>\n",
       "      <th>Q3A</th>\n",
       "      <th>Q3I</th>\n",
       "      <th>Q3E</th>\n",
       "      <th>Q4A</th>\n",
       "      <th>...</th>\n",
       "      <th>screensize</th>\n",
       "      <th>uniquenetworklocation</th>\n",
       "      <th>hand</th>\n",
       "      <th>religion</th>\n",
       "      <th>orientation</th>\n",
       "      <th>race</th>\n",
       "      <th>voted</th>\n",
       "      <th>married</th>\n",
       "      <th>familysize</th>\n",
       "      <th>major</th>\n",
       "    </tr>\n",
       "  </thead>\n",
       "  <tbody>\n",
       "    <tr>\n",
       "      <th>0</th>\n",
       "      <td>4</td>\n",
       "      <td>28</td>\n",
       "      <td>3890</td>\n",
       "      <td>4</td>\n",
       "      <td>25</td>\n",
       "      <td>2122</td>\n",
       "      <td>2</td>\n",
       "      <td>16</td>\n",
       "      <td>1944</td>\n",
       "      <td>4</td>\n",
       "      <td>...</td>\n",
       "      <td>1</td>\n",
       "      <td>1</td>\n",
       "      <td>1</td>\n",
       "      <td>12</td>\n",
       "      <td>1</td>\n",
       "      <td>10</td>\n",
       "      <td>2</td>\n",
       "      <td>1</td>\n",
       "      <td>2</td>\n",
       "      <td>None</td>\n",
       "    </tr>\n",
       "    <tr>\n",
       "      <th>1</th>\n",
       "      <td>4</td>\n",
       "      <td>2</td>\n",
       "      <td>8118</td>\n",
       "      <td>1</td>\n",
       "      <td>36</td>\n",
       "      <td>2890</td>\n",
       "      <td>2</td>\n",
       "      <td>35</td>\n",
       "      <td>4777</td>\n",
       "      <td>3</td>\n",
       "      <td>...</td>\n",
       "      <td>2</td>\n",
       "      <td>1</td>\n",
       "      <td>2</td>\n",
       "      <td>7</td>\n",
       "      <td>0</td>\n",
       "      <td>70</td>\n",
       "      <td>2</td>\n",
       "      <td>1</td>\n",
       "      <td>4</td>\n",
       "      <td>None</td>\n",
       "    </tr>\n",
       "    <tr>\n",
       "      <th>2</th>\n",
       "      <td>3</td>\n",
       "      <td>7</td>\n",
       "      <td>5784</td>\n",
       "      <td>1</td>\n",
       "      <td>33</td>\n",
       "      <td>4373</td>\n",
       "      <td>4</td>\n",
       "      <td>41</td>\n",
       "      <td>3242</td>\n",
       "      <td>1</td>\n",
       "      <td>...</td>\n",
       "      <td>2</td>\n",
       "      <td>1</td>\n",
       "      <td>1</td>\n",
       "      <td>4</td>\n",
       "      <td>3</td>\n",
       "      <td>60</td>\n",
       "      <td>1</td>\n",
       "      <td>1</td>\n",
       "      <td>3</td>\n",
       "      <td>None</td>\n",
       "    </tr>\n",
       "    <tr>\n",
       "      <th>3</th>\n",
       "      <td>2</td>\n",
       "      <td>23</td>\n",
       "      <td>5081</td>\n",
       "      <td>3</td>\n",
       "      <td>11</td>\n",
       "      <td>6837</td>\n",
       "      <td>2</td>\n",
       "      <td>37</td>\n",
       "      <td>5521</td>\n",
       "      <td>1</td>\n",
       "      <td>...</td>\n",
       "      <td>2</td>\n",
       "      <td>1</td>\n",
       "      <td>2</td>\n",
       "      <td>4</td>\n",
       "      <td>5</td>\n",
       "      <td>70</td>\n",
       "      <td>2</td>\n",
       "      <td>1</td>\n",
       "      <td>5</td>\n",
       "      <td>biology</td>\n",
       "    </tr>\n",
       "    <tr>\n",
       "      <th>4</th>\n",
       "      <td>2</td>\n",
       "      <td>36</td>\n",
       "      <td>3215</td>\n",
       "      <td>2</td>\n",
       "      <td>13</td>\n",
       "      <td>7731</td>\n",
       "      <td>3</td>\n",
       "      <td>5</td>\n",
       "      <td>4156</td>\n",
       "      <td>4</td>\n",
       "      <td>...</td>\n",
       "      <td>2</td>\n",
       "      <td>2</td>\n",
       "      <td>3</td>\n",
       "      <td>10</td>\n",
       "      <td>1</td>\n",
       "      <td>10</td>\n",
       "      <td>2</td>\n",
       "      <td>1</td>\n",
       "      <td>4</td>\n",
       "      <td>Psychology</td>\n",
       "    </tr>\n",
       "  </tbody>\n",
       "</table>\n",
       "<p>5 rows × 172 columns</p>\n",
       "</div>"
      ],
      "text/plain": [
       "   Q1A  Q1I   Q1E  Q2A  Q2I   Q2E  Q3A  Q3I   Q3E  Q4A  ...  screensize  \\\n",
       "0    4   28  3890    4   25  2122    2   16  1944    4  ...           1   \n",
       "1    4    2  8118    1   36  2890    2   35  4777    3  ...           2   \n",
       "2    3    7  5784    1   33  4373    4   41  3242    1  ...           2   \n",
       "3    2   23  5081    3   11  6837    2   37  5521    1  ...           2   \n",
       "4    2   36  3215    2   13  7731    3    5  4156    4  ...           2   \n",
       "\n",
       "   uniquenetworklocation  hand  religion  orientation  race  voted  married  \\\n",
       "0                      1     1        12            1    10      2        1   \n",
       "1                      1     2         7            0    70      2        1   \n",
       "2                      1     1         4            3    60      1        1   \n",
       "3                      1     2         4            5    70      2        1   \n",
       "4                      2     3        10            1    10      2        1   \n",
       "\n",
       "   familysize       major  \n",
       "0           2        None  \n",
       "1           4        None  \n",
       "2           3        None  \n",
       "3           5     biology  \n",
       "4           4  Psychology  \n",
       "\n",
       "[5 rows x 172 columns]"
      ]
     },
     "execution_count": 3,
     "metadata": {},
     "output_type": "execute_result"
    }
   ],
   "source": [
    "df.head()"
   ]
  },
  {
   "cell_type": "code",
   "execution_count": 4,
   "id": "7c8d1779",
   "metadata": {
    "execution": {
     "iopub.execute_input": "2021-11-17T16:18:09.426347Z",
     "iopub.status.busy": "2021-11-17T16:18:09.425329Z",
     "iopub.status.idle": "2021-11-17T16:18:09.432629Z",
     "shell.execute_reply": "2021-11-17T16:18:09.433120Z",
     "shell.execute_reply.started": "2021-11-17T16:16:48.954698Z"
    },
    "papermill": {
     "duration": 0.033928,
     "end_time": "2021-11-17T16:18:09.433298",
     "exception": false,
     "start_time": "2021-11-17T16:18:09.399370",
     "status": "completed"
    },
    "tags": []
   },
   "outputs": [],
   "source": [
    "DASS_keys = {'Depression': [3, 5, 10, 13, 16, 17, 21, 24, 26, 31, 34, 37, 38, 42],\n",
    "             'Anxiety': [2, 4, 7, 9, 15, 19, 20, 23, 25, 28, 30, 36, 40, 41],\n",
    "             'Stress': [1, 6, 8, 11, 12, 14, 18, 22, 27, 29, 32, 33, 35, 39]}\n",
    "\n",
    "DASS_bins = {'Depression': [(0, 10), (10, 14), (14, 21), (21, 28)],\n",
    "             'Anxiety': [(0, 8), (8, 10), (10, 15), (15, 20)],\n",
    "             'Stress': [(0, 15), (15, 19), (19, 26), (26, 34)]}"
   ]
  },
  {
   "cell_type": "code",
   "execution_count": 5,
   "id": "5d4d919b",
   "metadata": {
    "execution": {
     "iopub.execute_input": "2021-11-17T16:18:09.481913Z",
     "iopub.status.busy": "2021-11-17T16:18:09.481191Z",
     "iopub.status.idle": "2021-11-17T16:18:09.489110Z",
     "shell.execute_reply": "2021-11-17T16:18:09.489639Z",
     "shell.execute_reply.started": "2021-11-17T16:16:48.968279Z"
    },
    "papermill": {
     "duration": 0.034151,
     "end_time": "2021-11-17T16:18:09.489825",
     "exception": false,
     "start_time": "2021-11-17T16:18:09.455674",
     "status": "completed"
    },
    "tags": []
   },
   "outputs": [],
   "source": [
    "only_q = df.filter(regex='Q\\d{1,2}A')"
   ]
  },
  {
   "cell_type": "code",
   "execution_count": 6,
   "id": "33c2185b",
   "metadata": {
    "execution": {
     "iopub.execute_input": "2021-11-17T16:18:09.538959Z",
     "iopub.status.busy": "2021-11-17T16:18:09.538266Z",
     "iopub.status.idle": "2021-11-17T16:18:10.554901Z",
     "shell.execute_reply": "2021-11-17T16:18:10.554177Z",
     "shell.execute_reply.started": "2021-11-17T16:16:48.988002Z"
    },
    "papermill": {
     "duration": 1.042097,
     "end_time": "2021-11-17T16:18:10.555048",
     "exception": false,
     "start_time": "2021-11-17T16:18:09.512951",
     "status": "completed"
    },
    "tags": []
   },
   "outputs": [],
   "source": [
    "import seaborn as sn\n",
    "def draw_freq_plot(df):\n",
    "    cnt_num = [(df[df == i].sum(axis=1).sum())/(i) for i in range(1,5)]\n",
    "    ax=sn.barplot(x = [0,1,2,3], y=cnt_num)\n",
    "    ax.set_xlabel('Level')\n",
    "    ax.set_ylabel('Frequency')"
   ]
  },
  {
   "cell_type": "code",
   "execution_count": 7,
   "id": "050eb05c",
   "metadata": {
    "execution": {
     "iopub.execute_input": "2021-11-17T16:18:10.606336Z",
     "iopub.status.busy": "2021-11-17T16:18:10.605280Z",
     "iopub.status.idle": "2021-11-17T16:18:10.607441Z",
     "shell.execute_reply": "2021-11-17T16:18:10.607963Z",
     "shell.execute_reply.started": "2021-11-17T16:16:49.003668Z"
    },
    "papermill": {
     "duration": 0.030449,
     "end_time": "2021-11-17T16:18:10.608154",
     "exception": false,
     "start_time": "2021-11-17T16:18:10.577705",
     "status": "completed"
    },
    "tags": []
   },
   "outputs": [],
   "source": [
    "def sub(df):\n",
    "    return df.subtract(1, axis=1)"
   ]
  },
  {
   "cell_type": "code",
   "execution_count": 8,
   "id": "0f7d2082",
   "metadata": {
    "execution": {
     "iopub.execute_input": "2021-11-17T16:18:10.663255Z",
     "iopub.status.busy": "2021-11-17T16:18:10.662181Z",
     "iopub.status.idle": "2021-11-17T16:18:10.664299Z",
     "shell.execute_reply": "2021-11-17T16:18:10.664775Z",
     "shell.execute_reply.started": "2021-11-17T16:16:49.017613Z"
    },
    "papermill": {
     "duration": 0.031542,
     "end_time": "2021-11-17T16:18:10.664958",
     "exception": false,
     "start_time": "2021-11-17T16:18:10.633416",
     "status": "completed"
    },
    "tags": []
   },
   "outputs": [],
   "source": [
    "dep = []\n",
    "for i in DASS_keys[\"Depression\"]:\n",
    "    dep.append('Q'+str(i)+'A')\n",
    "stress = []\n",
    "for i in DASS_keys[\"Stress\"]:\n",
    "    stress.append('Q'+str(i)+'A')\n",
    "anx = []\n",
    "for i in DASS_keys[\"Anxiety\"]:\n",
    "    anx.append('Q'+str(i)+'A')"
   ]
  },
  {
   "cell_type": "code",
   "execution_count": 9,
   "id": "c9c8a40e",
   "metadata": {
    "execution": {
     "iopub.execute_input": "2021-11-17T16:18:10.722821Z",
     "iopub.status.busy": "2021-11-17T16:18:10.722055Z",
     "iopub.status.idle": "2021-11-17T16:18:10.723931Z",
     "shell.execute_reply": "2021-11-17T16:18:10.724464Z",
     "shell.execute_reply.started": "2021-11-17T16:16:49.030804Z"
    },
    "papermill": {
     "duration": 0.03691,
     "end_time": "2021-11-17T16:18:10.724647",
     "exception": false,
     "start_time": "2021-11-17T16:18:10.687737",
     "status": "completed"
    },
    "tags": []
   },
   "outputs": [],
   "source": [
    "depression_q = only_q.filter(dep)\n",
    "stress_q = only_q.filter(stress)\n",
    "anxiety_q = only_q.filter(anx)"
   ]
  },
  {
   "cell_type": "code",
   "execution_count": 10,
   "id": "d5cbd908",
   "metadata": {
    "execution": {
     "iopub.execute_input": "2021-11-17T16:18:10.773929Z",
     "iopub.status.busy": "2021-11-17T16:18:10.772407Z",
     "iopub.status.idle": "2021-11-17T16:18:11.226026Z",
     "shell.execute_reply": "2021-11-17T16:18:11.226586Z",
     "shell.execute_reply.started": "2021-11-17T16:16:49.056295Z"
    },
    "papermill": {
     "duration": 0.479549,
     "end_time": "2021-11-17T16:18:11.226772",
     "exception": false,
     "start_time": "2021-11-17T16:18:10.747223",
     "status": "completed"
    },
    "tags": []
   },
   "outputs": [
    {
     "data": {
      "image/png": "[encoded data removed]",
      "text/plain": [
       "<Figure size 432x288 with 1 Axes>"
      ]
     },
     "metadata": {
      "needs_background": "light"
     },
     "output_type": "display_data"
    }
   ],
   "source": [
    "draw_freq_plot(stress_q)"
   ]
  },
  {
   "cell_type": "code",
   "execution_count": 11,
   "id": "41b5e075",
   "metadata": {
    "execution": {
     "iopub.execute_input": "2021-11-17T16:18:11.280170Z",
     "iopub.status.busy": "2021-11-17T16:18:11.279131Z",
     "iopub.status.idle": "2021-11-17T16:18:11.709347Z",
     "shell.execute_reply": "2021-11-17T16:18:11.708806Z",
     "shell.execute_reply.started": "2021-11-17T16:16:49.471597Z"
    },
    "papermill": {
     "duration": 0.459362,
     "end_time": "2021-11-17T16:18:11.709490",
     "exception": false,
     "start_time": "2021-11-17T16:18:11.250128",
     "status": "completed"
    },
    "tags": []
   },
   "outputs": [
    {
     "data": {
      "image/png": "[encoded data removed]",
      "text/plain": [
       "<Figure size 432x288 with 1 Axes>"
      ]
     },
     "metadata": {
      "needs_background": "light"
     },
     "output_type": "display_data"
    }
   ],
   "source": [
    "draw_freq_plot(depression_q)"
   ]
  },
  {
   "cell_type": "code",
   "execution_count": 12,
   "id": "99fe1f9b",
   "metadata": {
    "execution": {
     "iopub.execute_input": "2021-11-17T16:18:11.768501Z",
     "iopub.status.busy": "2021-11-17T16:18:11.767420Z",
     "iopub.status.idle": "2021-11-17T16:18:12.184402Z",
     "shell.execute_reply": "2021-11-17T16:18:12.183573Z",
     "shell.execute_reply.started": "2021-11-17T16:16:49.875300Z"
    },
    "papermill": {
     "duration": 0.446676,
     "end_time": "2021-11-17T16:18:12.184564",
     "exception": false,
     "start_time": "2021-11-17T16:18:11.737888",
     "status": "completed"
    },
    "tags": []
   },
   "outputs": [
    {
     "data": {
      "image/png": "[encoded data removed]",
      "text/plain": [
       "<Figure size 432x288 with 1 Axes>"
      ]
     },
     "metadata": {
      "needs_background": "light"
     },
     "output_type": "display_data"
    }
   ],
   "source": [
    "draw_freq_plot(anxiety_q)"
   ]
  },
  {
   "cell_type": "code",
   "execution_count": 13,
   "id": "e96e3a3a",
   "metadata": {
    "execution": {
     "iopub.execute_input": "2021-11-17T16:18:12.239834Z",
     "iopub.status.busy": "2021-11-17T16:18:12.239048Z",
     "iopub.status.idle": "2021-11-17T16:18:12.244961Z",
     "shell.execute_reply": "2021-11-17T16:18:12.244285Z",
     "shell.execute_reply.started": "2021-11-17T16:16:50.268616Z"
    },
    "papermill": {
     "duration": 0.035261,
     "end_time": "2021-11-17T16:18:12.245098",
     "exception": false,
     "start_time": "2021-11-17T16:18:12.209837",
     "status": "completed"
    },
    "tags": []
   },
   "outputs": [],
   "source": [
    "depression_q = sub(depression_q)\n",
    "stress_q = sub(stress_q)\n",
    "anxiety_q = sub(anxiety_q)"
   ]
  },
  {
   "cell_type": "code",
   "execution_count": 14,
   "id": "c4a84734",
   "metadata": {
    "execution": {
     "iopub.execute_input": "2021-11-17T16:18:12.300902Z",
     "iopub.status.busy": "2021-11-17T16:18:12.299931Z",
     "iopub.status.idle": "2021-11-17T16:18:12.316843Z",
     "shell.execute_reply": "2021-11-17T16:18:12.317360Z",
     "shell.execute_reply.started": "2021-11-17T16:16:50.282681Z"
    },
    "papermill": {
     "duration": 0.047239,
     "end_time": "2021-11-17T16:18:12.317526",
     "exception": false,
     "start_time": "2021-11-17T16:18:12.270287",
     "status": "completed"
    },
    "tags": []
   },
   "outputs": [
    {
     "name": "stdout",
     "output_type": "stream",
     "text": [
      "<class 'pandas.core.frame.DataFrame'>\n",
      "RangeIndex: 39775 entries, 0 to 39774\n",
      "Data columns (total 14 columns):\n",
      " #   Column  Non-Null Count  Dtype\n",
      "---  ------  --------------  -----\n",
      " 0   Q3A     39775 non-null  int64\n",
      " 1   Q5A     39775 non-null  int64\n",
      " 2   Q10A    39775 non-null  int64\n",
      " 3   Q13A    39775 non-null  int64\n",
      " 4   Q16A    39775 non-null  int64\n",
      " 5   Q17A    39775 non-null  int64\n",
      " 6   Q21A    39775 non-null  int64\n",
      " 7   Q24A    39775 non-null  int64\n",
      " 8   Q26A    39775 non-null  int64\n",
      " 9   Q31A    39775 non-null  int64\n",
      " 10  Q34A    39775 non-null  int64\n",
      " 11  Q37A    39775 non-null  int64\n",
      " 12  Q38A    39775 non-null  int64\n",
      " 13  Q42A    39775 non-null  int64\n",
      "dtypes: int64(14)\n",
      "memory usage: 4.2 MB\n"
     ]
    }
   ],
   "source": [
    "depression_q.info()"
   ]
  },
  {
   "cell_type": "code",
   "execution_count": 15,
   "id": "4c4b750f",
   "metadata": {
    "execution": {
     "iopub.execute_input": "2021-11-17T16:18:12.371181Z",
     "iopub.status.busy": "2021-11-17T16:18:12.370449Z",
     "iopub.status.idle": "2021-11-17T16:18:12.379372Z",
     "shell.execute_reply": "2021-11-17T16:18:12.379868Z",
     "shell.execute_reply.started": "2021-11-17T16:16:50.301840Z"
    },
    "papermill": {
     "duration": 0.037518,
     "end_time": "2021-11-17T16:18:12.380040",
     "exception": false,
     "start_time": "2021-11-17T16:18:12.342522",
     "status": "completed"
    },
    "tags": []
   },
   "outputs": [
    {
     "data": {
      "text/plain": [
       "Q3A     0\n",
       "Q5A     0\n",
       "Q10A    0\n",
       "Q13A    0\n",
       "Q16A    0\n",
       "Q17A    0\n",
       "Q21A    0\n",
       "Q24A    0\n",
       "Q26A    0\n",
       "Q31A    0\n",
       "Q34A    0\n",
       "Q37A    0\n",
       "Q38A    0\n",
       "Q42A    0\n",
       "dtype: int64"
      ]
     },
     "execution_count": 15,
     "metadata": {},
     "output_type": "execute_result"
    }
   ],
   "source": [
    "depression_q.isnull().sum()"
   ]
  },
  {
   "cell_type": "code",
   "execution_count": 16,
   "id": "e955d35c",
   "metadata": {
    "execution": {
     "iopub.execute_input": "2021-11-17T16:18:12.439580Z",
     "iopub.status.busy": "2021-11-17T16:18:12.438935Z",
     "iopub.status.idle": "2021-11-17T16:18:12.445956Z",
     "shell.execute_reply": "2021-11-17T16:18:12.446541Z",
     "shell.execute_reply.started": "2021-11-17T16:16:50.316806Z"
    },
    "papermill": {
     "duration": 0.041545,
     "end_time": "2021-11-17T16:18:12.446711",
     "exception": false,
     "start_time": "2021-11-17T16:18:12.405166",
     "status": "completed"
    },
    "tags": []
   },
   "outputs": [
    {
     "data": {
      "text/html": [
       "<div>\n",
       "<style scoped>\n",
       "    .dataframe tbody tr th:only-of-type {\n",
       "        vertical-align: middle;\n",
       "    }\n",
       "\n",
       "    .dataframe tbody tr th {\n",
       "        vertical-align: top;\n",
       "    }\n",
       "\n",
       "    .dataframe thead th {\n",
       "        text-align: right;\n",
       "    }\n",
       "</style>\n",
       "<table border=\"1\" class=\"dataframe\">\n",
       "  <thead>\n",
       "    <tr style=\"text-align: right;\">\n",
       "      <th></th>\n",
       "      <th>Q3A</th>\n",
       "      <th>Q5A</th>\n",
       "      <th>Q10A</th>\n",
       "      <th>Q13A</th>\n",
       "      <th>Q16A</th>\n",
       "      <th>Q17A</th>\n",
       "      <th>Q21A</th>\n",
       "      <th>Q24A</th>\n",
       "      <th>Q26A</th>\n",
       "      <th>Q31A</th>\n",
       "      <th>Q34A</th>\n",
       "      <th>Q37A</th>\n",
       "      <th>Q38A</th>\n",
       "      <th>Q42A</th>\n",
       "    </tr>\n",
       "  </thead>\n",
       "  <tbody>\n",
       "    <tr>\n",
       "      <th>0</th>\n",
       "      <td>1</td>\n",
       "      <td>3</td>\n",
       "      <td>0</td>\n",
       "      <td>3</td>\n",
       "      <td>3</td>\n",
       "      <td>2</td>\n",
       "      <td>0</td>\n",
       "      <td>3</td>\n",
       "      <td>3</td>\n",
       "      <td>3</td>\n",
       "      <td>2</td>\n",
       "      <td>0</td>\n",
       "      <td>1</td>\n",
       "      <td>3</td>\n",
       "    </tr>\n",
       "    <tr>\n",
       "      <th>1</th>\n",
       "      <td>1</td>\n",
       "      <td>3</td>\n",
       "      <td>1</td>\n",
       "      <td>3</td>\n",
       "      <td>2</td>\n",
       "      <td>3</td>\n",
       "      <td>1</td>\n",
       "      <td>1</td>\n",
       "      <td>2</td>\n",
       "      <td>1</td>\n",
       "      <td>1</td>\n",
       "      <td>3</td>\n",
       "      <td>1</td>\n",
       "      <td>1</td>\n",
       "    </tr>\n",
       "    <tr>\n",
       "      <th>2</th>\n",
       "      <td>3</td>\n",
       "      <td>3</td>\n",
       "      <td>3</td>\n",
       "      <td>3</td>\n",
       "      <td>3</td>\n",
       "      <td>3</td>\n",
       "      <td>3</td>\n",
       "      <td>3</td>\n",
       "      <td>0</td>\n",
       "      <td>3</td>\n",
       "      <td>3</td>\n",
       "      <td>3</td>\n",
       "      <td>3</td>\n",
       "      <td>3</td>\n",
       "    </tr>\n",
       "    <tr>\n",
       "      <th>3</th>\n",
       "      <td>1</td>\n",
       "      <td>2</td>\n",
       "      <td>2</td>\n",
       "      <td>0</td>\n",
       "      <td>1</td>\n",
       "      <td>2</td>\n",
       "      <td>0</td>\n",
       "      <td>0</td>\n",
       "      <td>1</td>\n",
       "      <td>2</td>\n",
       "      <td>3</td>\n",
       "      <td>1</td>\n",
       "      <td>0</td>\n",
       "      <td>1</td>\n",
       "    </tr>\n",
       "    <tr>\n",
       "      <th>4</th>\n",
       "      <td>2</td>\n",
       "      <td>3</td>\n",
       "      <td>2</td>\n",
       "      <td>3</td>\n",
       "      <td>2</td>\n",
       "      <td>3</td>\n",
       "      <td>2</td>\n",
       "      <td>1</td>\n",
       "      <td>3</td>\n",
       "      <td>2</td>\n",
       "      <td>3</td>\n",
       "      <td>2</td>\n",
       "      <td>2</td>\n",
       "      <td>2</td>\n",
       "    </tr>\n",
       "  </tbody>\n",
       "</table>\n",
       "</div>"
      ],
      "text/plain": [
       "   Q3A  Q5A  Q10A  Q13A  Q16A  Q17A  Q21A  Q24A  Q26A  Q31A  Q34A  Q37A  Q38A  \\\n",
       "0    1    3     0     3     3     2     0     3     3     3     2     0     1   \n",
       "1    1    3     1     3     2     3     1     1     2     1     1     3     1   \n",
       "2    3    3     3     3     3     3     3     3     0     3     3     3     3   \n",
       "3    1    2     2     0     1     2     0     0     1     2     3     1     0   \n",
       "4    2    3     2     3     2     3     2     1     3     2     3     2     2   \n",
       "\n",
       "   Q42A  \n",
       "0     3  \n",
       "1     1  \n",
       "2     3  \n",
       "3     1  \n",
       "4     2  "
      ]
     },
     "execution_count": 16,
     "metadata": {},
     "output_type": "execute_result"
    }
   ],
   "source": [
    "depression_q.head()"
   ]
  },
  {
   "cell_type": "code",
   "execution_count": 17,
   "id": "1cc0e4c7",
   "metadata": {
    "execution": {
     "iopub.execute_input": "2021-11-17T16:18:12.501650Z",
     "iopub.status.busy": "2021-11-17T16:18:12.501007Z",
     "iopub.status.idle": "2021-11-17T16:18:12.504804Z",
     "shell.execute_reply": "2021-11-17T16:18:12.505299Z",
     "shell.execute_reply.started": "2021-11-17T16:16:50.333060Z"
    },
    "papermill": {
     "duration": 0.032932,
     "end_time": "2021-11-17T16:18:12.505456",
     "exception": false,
     "start_time": "2021-11-17T16:18:12.472524",
     "status": "completed"
    },
    "tags": []
   },
   "outputs": [],
   "source": [
    "def scores(df):\n",
    "    col = list(df)\n",
    "    df[\"Scores\"] = df[col].sum(axis=1)\n",
    "    return df"
   ]
  },
  {
   "cell_type": "code",
   "execution_count": 18,
   "id": "d9353fe6",
   "metadata": {
    "execution": {
     "iopub.execute_input": "2021-11-17T16:18:12.562780Z",
     "iopub.status.busy": "2021-11-17T16:18:12.562135Z",
     "iopub.status.idle": "2021-11-17T16:18:12.575412Z",
     "shell.execute_reply": "2021-11-17T16:18:12.575958Z",
     "shell.execute_reply.started": "2021-11-17T16:16:50.345116Z"
    },
    "papermill": {
     "duration": 0.044837,
     "end_time": "2021-11-17T16:18:12.576128",
     "exception": false,
     "start_time": "2021-11-17T16:18:12.531291",
     "status": "completed"
    },
    "tags": []
   },
   "outputs": [],
   "source": [
    "train_dep = scores(depression_q)\n",
    "train_str = scores(stress_q)\n",
    "train_anx = scores(anxiety_q)"
   ]
  },
  {
   "cell_type": "code",
   "execution_count": 19,
   "id": "7a42821a",
   "metadata": {
    "execution": {
     "iopub.execute_input": "2021-11-17T16:18:12.631451Z",
     "iopub.status.busy": "2021-11-17T16:18:12.630835Z",
     "iopub.status.idle": "2021-11-17T16:18:12.642669Z",
     "shell.execute_reply": "2021-11-17T16:18:12.643286Z",
     "shell.execute_reply.started": "2021-11-17T16:16:50.368338Z"
    },
    "papermill": {
     "duration": 0.04144,
     "end_time": "2021-11-17T16:18:12.643449",
     "exception": false,
     "start_time": "2021-11-17T16:18:12.602009",
     "status": "completed"
    },
    "tags": []
   },
   "outputs": [
    {
     "data": {
      "text/html": [
       "<div>\n",
       "<style scoped>\n",
       "    .dataframe tbody tr th:only-of-type {\n",
       "        vertical-align: middle;\n",
       "    }\n",
       "\n",
       "    .dataframe tbody tr th {\n",
       "        vertical-align: top;\n",
       "    }\n",
       "\n",
       "    .dataframe thead th {\n",
       "        text-align: right;\n",
       "    }\n",
       "</style>\n",
       "<table border=\"1\" class=\"dataframe\">\n",
       "  <thead>\n",
       "    <tr style=\"text-align: right;\">\n",
       "      <th></th>\n",
       "      <th>Q3A</th>\n",
       "      <th>Q5A</th>\n",
       "      <th>Q10A</th>\n",
       "      <th>Q13A</th>\n",
       "      <th>Q16A</th>\n",
       "      <th>Q17A</th>\n",
       "      <th>Q21A</th>\n",
       "      <th>Q24A</th>\n",
       "      <th>Q26A</th>\n",
       "      <th>Q31A</th>\n",
       "      <th>Q34A</th>\n",
       "      <th>Q37A</th>\n",
       "      <th>Q38A</th>\n",
       "      <th>Q42A</th>\n",
       "      <th>Scores</th>\n",
       "    </tr>\n",
       "  </thead>\n",
       "  <tbody>\n",
       "    <tr>\n",
       "      <th>0</th>\n",
       "      <td>1</td>\n",
       "      <td>3</td>\n",
       "      <td>0</td>\n",
       "      <td>3</td>\n",
       "      <td>3</td>\n",
       "      <td>2</td>\n",
       "      <td>0</td>\n",
       "      <td>3</td>\n",
       "      <td>3</td>\n",
       "      <td>3</td>\n",
       "      <td>2</td>\n",
       "      <td>0</td>\n",
       "      <td>1</td>\n",
       "      <td>3</td>\n",
       "      <td>27</td>\n",
       "    </tr>\n",
       "    <tr>\n",
       "      <th>1</th>\n",
       "      <td>1</td>\n",
       "      <td>3</td>\n",
       "      <td>1</td>\n",
       "      <td>3</td>\n",
       "      <td>2</td>\n",
       "      <td>3</td>\n",
       "      <td>1</td>\n",
       "      <td>1</td>\n",
       "      <td>2</td>\n",
       "      <td>1</td>\n",
       "      <td>1</td>\n",
       "      <td>3</td>\n",
       "      <td>1</td>\n",
       "      <td>1</td>\n",
       "      <td>24</td>\n",
       "    </tr>\n",
       "    <tr>\n",
       "      <th>2</th>\n",
       "      <td>3</td>\n",
       "      <td>3</td>\n",
       "      <td>3</td>\n",
       "      <td>3</td>\n",
       "      <td>3</td>\n",
       "      <td>3</td>\n",
       "      <td>3</td>\n",
       "      <td>3</td>\n",
       "      <td>0</td>\n",
       "      <td>3</td>\n",
       "      <td>3</td>\n",
       "      <td>3</td>\n",
       "      <td>3</td>\n",
       "      <td>3</td>\n",
       "      <td>39</td>\n",
       "    </tr>\n",
       "    <tr>\n",
       "      <th>3</th>\n",
       "      <td>1</td>\n",
       "      <td>2</td>\n",
       "      <td>2</td>\n",
       "      <td>0</td>\n",
       "      <td>1</td>\n",
       "      <td>2</td>\n",
       "      <td>0</td>\n",
       "      <td>0</td>\n",
       "      <td>1</td>\n",
       "      <td>2</td>\n",
       "      <td>3</td>\n",
       "      <td>1</td>\n",
       "      <td>0</td>\n",
       "      <td>1</td>\n",
       "      <td>16</td>\n",
       "    </tr>\n",
       "    <tr>\n",
       "      <th>4</th>\n",
       "      <td>2</td>\n",
       "      <td>3</td>\n",
       "      <td>2</td>\n",
       "      <td>3</td>\n",
       "      <td>2</td>\n",
       "      <td>3</td>\n",
       "      <td>2</td>\n",
       "      <td>1</td>\n",
       "      <td>3</td>\n",
       "      <td>2</td>\n",
       "      <td>3</td>\n",
       "      <td>2</td>\n",
       "      <td>2</td>\n",
       "      <td>2</td>\n",
       "      <td>32</td>\n",
       "    </tr>\n",
       "  </tbody>\n",
       "</table>\n",
       "</div>"
      ],
      "text/plain": [
       "   Q3A  Q5A  Q10A  Q13A  Q16A  Q17A  Q21A  Q24A  Q26A  Q31A  Q34A  Q37A  Q38A  \\\n",
       "0    1    3     0     3     3     2     0     3     3     3     2     0     1   \n",
       "1    1    3     1     3     2     3     1     1     2     1     1     3     1   \n",
       "2    3    3     3     3     3     3     3     3     0     3     3     3     3   \n",
       "3    1    2     2     0     1     2     0     0     1     2     3     1     0   \n",
       "4    2    3     2     3     2     3     2     1     3     2     3     2     2   \n",
       "\n",
       "   Q42A  Scores  \n",
       "0     3      27  \n",
       "1     1      24  \n",
       "2     3      39  \n",
       "3     1      16  \n",
       "4     2      32  "
      ]
     },
     "execution_count": 19,
     "metadata": {},
     "output_type": "execute_result"
    }
   ],
   "source": [
    "train_dep.head()"
   ]
  },
  {
   "cell_type": "code",
   "execution_count": 20,
   "id": "d963dc21",
   "metadata": {
    "execution": {
     "iopub.execute_input": "2021-11-17T16:18:12.699372Z",
     "iopub.status.busy": "2021-11-17T16:18:12.698673Z",
     "iopub.status.idle": "2021-11-17T16:18:12.729473Z",
     "shell.execute_reply": "2021-11-17T16:18:12.728937Z",
     "shell.execute_reply.started": "2021-11-17T16:16:50.389415Z"
    },
    "papermill": {
     "duration": 0.05975,
     "end_time": "2021-11-17T16:18:12.729619",
     "exception": false,
     "start_time": "2021-11-17T16:18:12.669869",
     "status": "completed"
    },
    "tags": []
   },
   "outputs": [
    {
     "data": {
      "text/html": [
       "<div>\n",
       "<style scoped>\n",
       "    .dataframe tbody tr th:only-of-type {\n",
       "        vertical-align: middle;\n",
       "    }\n",
       "\n",
       "    .dataframe tbody tr th {\n",
       "        vertical-align: top;\n",
       "    }\n",
       "\n",
       "    .dataframe thead th {\n",
       "        text-align: right;\n",
       "    }\n",
       "</style>\n",
       "<table border=\"1\" class=\"dataframe\">\n",
       "  <thead>\n",
       "    <tr style=\"text-align: right;\">\n",
       "      <th></th>\n",
       "      <th>Q3A</th>\n",
       "      <th>Q5A</th>\n",
       "      <th>Q10A</th>\n",
       "      <th>Q13A</th>\n",
       "      <th>Q16A</th>\n",
       "      <th>Q17A</th>\n",
       "      <th>Q21A</th>\n",
       "      <th>Q24A</th>\n",
       "      <th>Q26A</th>\n",
       "      <th>Q31A</th>\n",
       "      <th>Q34A</th>\n",
       "      <th>Q37A</th>\n",
       "      <th>Q38A</th>\n",
       "      <th>Q42A</th>\n",
       "      <th>Scores</th>\n",
       "      <th>Category</th>\n",
       "    </tr>\n",
       "  </thead>\n",
       "  <tbody>\n",
       "    <tr>\n",
       "      <th>0</th>\n",
       "      <td>1</td>\n",
       "      <td>3</td>\n",
       "      <td>0</td>\n",
       "      <td>3</td>\n",
       "      <td>3</td>\n",
       "      <td>2</td>\n",
       "      <td>0</td>\n",
       "      <td>3</td>\n",
       "      <td>3</td>\n",
       "      <td>3</td>\n",
       "      <td>2</td>\n",
       "      <td>0</td>\n",
       "      <td>1</td>\n",
       "      <td>3</td>\n",
       "      <td>27</td>\n",
       "      <td>Severe</td>\n",
       "    </tr>\n",
       "    <tr>\n",
       "      <th>1</th>\n",
       "      <td>1</td>\n",
       "      <td>3</td>\n",
       "      <td>1</td>\n",
       "      <td>3</td>\n",
       "      <td>2</td>\n",
       "      <td>3</td>\n",
       "      <td>1</td>\n",
       "      <td>1</td>\n",
       "      <td>2</td>\n",
       "      <td>1</td>\n",
       "      <td>1</td>\n",
       "      <td>3</td>\n",
       "      <td>1</td>\n",
       "      <td>1</td>\n",
       "      <td>24</td>\n",
       "      <td>Severe</td>\n",
       "    </tr>\n",
       "    <tr>\n",
       "      <th>2</th>\n",
       "      <td>3</td>\n",
       "      <td>3</td>\n",
       "      <td>3</td>\n",
       "      <td>3</td>\n",
       "      <td>3</td>\n",
       "      <td>3</td>\n",
       "      <td>3</td>\n",
       "      <td>3</td>\n",
       "      <td>0</td>\n",
       "      <td>3</td>\n",
       "      <td>3</td>\n",
       "      <td>3</td>\n",
       "      <td>3</td>\n",
       "      <td>3</td>\n",
       "      <td>39</td>\n",
       "      <td>Extremely Severe</td>\n",
       "    </tr>\n",
       "    <tr>\n",
       "      <th>3</th>\n",
       "      <td>1</td>\n",
       "      <td>2</td>\n",
       "      <td>2</td>\n",
       "      <td>0</td>\n",
       "      <td>1</td>\n",
       "      <td>2</td>\n",
       "      <td>0</td>\n",
       "      <td>0</td>\n",
       "      <td>1</td>\n",
       "      <td>2</td>\n",
       "      <td>3</td>\n",
       "      <td>1</td>\n",
       "      <td>0</td>\n",
       "      <td>1</td>\n",
       "      <td>16</td>\n",
       "      <td>Moderate</td>\n",
       "    </tr>\n",
       "    <tr>\n",
       "      <th>4</th>\n",
       "      <td>2</td>\n",
       "      <td>3</td>\n",
       "      <td>2</td>\n",
       "      <td>3</td>\n",
       "      <td>2</td>\n",
       "      <td>3</td>\n",
       "      <td>2</td>\n",
       "      <td>1</td>\n",
       "      <td>3</td>\n",
       "      <td>2</td>\n",
       "      <td>3</td>\n",
       "      <td>2</td>\n",
       "      <td>2</td>\n",
       "      <td>2</td>\n",
       "      <td>32</td>\n",
       "      <td>Extremely Severe</td>\n",
       "    </tr>\n",
       "  </tbody>\n",
       "</table>\n",
       "</div>"
      ],
      "text/plain": [
       "   Q3A  Q5A  Q10A  Q13A  Q16A  Q17A  Q21A  Q24A  Q26A  Q31A  Q34A  Q37A  Q38A  \\\n",
       "0    1    3     0     3     3     2     0     3     3     3     2     0     1   \n",
       "1    1    3     1     3     2     3     1     1     2     1     1     3     1   \n",
       "2    3    3     3     3     3     3     3     3     0     3     3     3     3   \n",
       "3    1    2     2     0     1     2     0     0     1     2     3     1     0   \n",
       "4    2    3     2     3     2     3     2     1     3     2     3     2     2   \n",
       "\n",
       "   Q42A  Scores          Category  \n",
       "0     3      27            Severe  \n",
       "1     1      24            Severe  \n",
       "2     3      39  Extremely Severe  \n",
       "3     1      16          Moderate  \n",
       "4     2      32  Extremely Severe  "
      ]
     },
     "execution_count": 20,
     "metadata": {},
     "output_type": "execute_result"
    }
   ],
   "source": [
    "def append(df, string):\n",
    "    conditions = [\n",
    "    ((df['Scores'] >= DASS_bins[string][0][0])  & (df['Scores'] < DASS_bins[string][0][1])),\n",
    "    ((df['Scores'] >= DASS_bins[string][1][0])  & (df['Scores'] < DASS_bins[string][1][1])),\n",
    "    ((df['Scores'] >= DASS_bins[string][2][0])  & (df['Scores'] < DASS_bins[string][2][1])),\n",
    "    ((df['Scores'] >= DASS_bins[string][3][0])  & (df['Scores'] < DASS_bins[string][3][1])),\n",
    "    (((df['Scores'] >= DASS_bins[string][3][1])))\n",
    "    ]\n",
    "    values = ['Normal','Mild', 'Moderate', 'Severe', 'Extremely Severe']\n",
    "    df['Category'] = np.select(conditions, values)\n",
    "    return df\n",
    "    \n",
    "train_dep = append(train_dep, 'Depression')\n",
    "train_dep.head()"
   ]
  },
  {
   "cell_type": "code",
   "execution_count": 21,
   "id": "9ad5fd10",
   "metadata": {
    "execution": {
     "iopub.execute_input": "2021-11-17T16:18:12.790627Z",
     "iopub.status.busy": "2021-11-17T16:18:12.789886Z",
     "iopub.status.idle": "2021-11-17T16:18:12.983932Z",
     "shell.execute_reply": "2021-11-17T16:18:12.983328Z",
     "shell.execute_reply.started": "2021-11-17T16:16:50.430624Z"
    },
    "papermill": {
     "duration": 0.226429,
     "end_time": "2021-11-17T16:18:12.984072",
     "exception": false,
     "start_time": "2021-11-17T16:18:12.757643",
     "status": "completed"
    },
    "tags": []
   },
   "outputs": [],
   "source": [
    "from sklearn.model_selection import train_test_split\n",
    "from sklearn.naive_bayes import MultinomialNB\n",
    "cat = train_dep['Category']\n",
    "train_dep.drop('Category', inplace=True, axis=1)"
   ]
  },
  {
   "cell_type": "code",
   "execution_count": 22,
   "id": "e53008ad",
   "metadata": {
    "execution": {
     "iopub.execute_input": "2021-11-17T16:18:13.046292Z",
     "iopub.status.busy": "2021-11-17T16:18:13.045588Z",
     "iopub.status.idle": "2021-11-17T16:18:13.062333Z",
     "shell.execute_reply": "2021-11-17T16:18:13.063075Z",
     "shell.execute_reply.started": "2021-11-17T16:16:50.447140Z"
    },
    "papermill": {
     "duration": 0.051961,
     "end_time": "2021-11-17T16:18:13.063251",
     "exception": false,
     "start_time": "2021-11-17T16:18:13.011290",
     "status": "completed"
    },
    "tags": []
   },
   "outputs": [
    {
     "name": "stdout",
     "output_type": "stream",
     "text": [
      "(29831, 15) (29831,) (9944, 15) (9944,)\n"
     ]
    }
   ],
   "source": [
    "Xtrain,Xtest,ytrain,ytest = train_test_split(train_dep, cat, train_size=0.75,random_state=2)\n",
    "print(Xtrain.shape, ytrain.shape, Xtest.shape, ytest.shape)"
   ]
  },
  {
   "cell_type": "code",
   "execution_count": 23,
   "id": "7d4f09aa",
   "metadata": {
    "execution": {
     "iopub.execute_input": "2021-11-17T16:18:13.123081Z",
     "iopub.status.busy": "2021-11-17T16:18:13.122333Z",
     "iopub.status.idle": "2021-11-17T16:18:13.133737Z",
     "shell.execute_reply": "2021-11-17T16:18:13.134281Z",
     "shell.execute_reply.started": "2021-11-17T16:16:50.474319Z"
    },
    "papermill": {
     "duration": 0.042563,
     "end_time": "2021-11-17T16:18:13.134449",
     "exception": false,
     "start_time": "2021-11-17T16:18:13.091886",
     "status": "completed"
    },
    "tags": []
   },
   "outputs": [],
   "source": [
    "import matplotlib.pyplot as plt\n",
    "from sklearn.metrics import confusion_matrix\n",
    "def plot_confusion_matrix(y_true, y_pred, classes,\n",
    "                          normalize=False,\n",
    "                          title=None,\n",
    "                          cmap=plt.cm.Blues):\n",
    "    \"\"\"\n",
    "    This function prints and plots the confusion matrix.\n",
    "    Normalization can be applied by setting `normalize=True`.\n",
    "    \"\"\"\n",
    " \n",
    "    title = 'Confusion Matrix'\n",
    "\n",
    "    # Compute confusion matrix\n",
    "    cm = confusion_matrix(y_true, y_pred, labels=classes)\n",
    "\n",
    "    fig, ax = plt.subplots(figsize=(5,5))\n",
    "    im = ax.imshow(cm, interpolation='nearest', cmap=cmap)\n",
    "    # ax.figure.colorbar(im, ax=ax)\n",
    "    ax.figure.colorbar(im, ax=ax, fraction=0.046, pad=0.04)\n",
    "    # We want to show all ticks...\n",
    "    ax.set(xticks=np.arange(cm.shape[1]),\n",
    "           yticks=np.arange(cm.shape[0]),\n",
    "           # ... and label them with the respective list entries\n",
    "           xticklabels=classes, yticklabels=classes,\n",
    "           title=title,\n",
    "           ylabel='True label',\n",
    "           xlabel='Predicted label')\n",
    "\n",
    "    # Rotate the tick labels and set their alignment.\n",
    "    plt.setp(ax.get_xticklabels(), rotation=0)\n",
    "\n",
    "    # Loop over data dimensions and create text annotations.\n",
    "    fmt = '.2f' if normalize else 'd'\n",
    "    thresh = cm.max() / 2.\n",
    "    for i in range(cm.shape[0]):\n",
    "        for j in range(cm.shape[1]):\n",
    "            ax.text(j, i, format(cm[i, j], fmt),\n",
    "                    ha=\"center\", va=\"center\",\n",
    "                    color=\"white\" if cm[i, j] > thresh else \"black\")\n",
    "    fig.tight_layout()\n",
    "    \n",
    "    plt.grid(b=None)"
   ]
  },
  {
   "cell_type": "code",
   "execution_count": 24,
   "id": "9c431114",
   "metadata": {
    "execution": {
     "iopub.execute_input": "2021-11-17T16:18:13.193544Z",
     "iopub.status.busy": "2021-11-17T16:18:13.192904Z",
     "iopub.status.idle": "2021-11-17T16:18:14.038617Z",
     "shell.execute_reply": "2021-11-17T16:18:14.038090Z",
     "shell.execute_reply.started": "2021-11-17T16:16:50.489445Z"
    },
    "papermill": {
     "duration": 0.87708,
     "end_time": "2021-11-17T16:18:14.039002",
     "exception": false,
     "start_time": "2021-11-17T16:18:13.161922",
     "status": "completed"
    },
    "tags": []
   },
   "outputs": [
    {
     "data": {
      "text/plain": [
       "0.46198712791633145"
      ]
     },
     "execution_count": 24,
     "metadata": {},
     "output_type": "execute_result"
    },
    {
     "data": {
      "image/png": "[encoded data removed]",
      "text/plain": [
       "<Figure size 432x288 with 2 Axes>"
      ]
     },
     "metadata": {
      "needs_background": "light"
     },
     "output_type": "display_data"
    }
   ],
   "source": [
    "from sklearn.metrics import plot_confusion_matrix\n",
    "from sklearn.metrics import f1_score\n",
    "model_d = MultinomialNB(alpha=0.0001, fit_prior = False)\n",
    "model_d.fit(Xtrain,ytrain)\n",
    "plot_confusion_matrix(model_d, Xtest, ytest)\n",
    "predictions = model_d.predict(Xtest)\n",
    "f1_score(ytest,predictions, average = 'micro')"
   ]
  },
  {
   "cell_type": "code",
   "execution_count": 25,
   "id": "1ddd6efc",
   "metadata": {
    "execution": {
     "iopub.execute_input": "2021-11-17T16:18:14.101135Z",
     "iopub.status.busy": "2021-11-17T16:18:14.100162Z",
     "iopub.status.idle": "2021-11-17T16:18:16.708365Z",
     "shell.execute_reply": "2021-11-17T16:18:16.708867Z",
     "shell.execute_reply.started": "2021-11-17T16:16:51.428595Z"
    },
    "papermill": {
     "duration": 2.640802,
     "end_time": "2021-11-17T16:18:16.709029",
     "exception": false,
     "start_time": "2021-11-17T16:18:14.068227",
     "status": "completed"
    },
    "tags": []
   },
   "outputs": [
    {
     "data": {
      "text/plain": [
       "1.0"
      ]
     },
     "execution_count": 25,
     "metadata": {},
     "output_type": "execute_result"
    },
    {
     "data": {
      "image/png": "[encoded data removed]",
      "text/plain": [
       "<Figure size 432x288 with 2 Axes>"
      ]
     },
     "metadata": {
      "needs_background": "light"
     },
     "output_type": "display_data"
    }
   ],
   "source": [
    "from sklearn.ensemble import RandomForestClassifier\n",
    "model1 = RandomForestClassifier(random_state=0)\n",
    "model1.fit(Xtrain,ytrain)\n",
    "plot_confusion_matrix(model1, Xtest, ytest)\n",
    "predictions = model1.predict(Xtest)\n",
    "f1_score(ytest,predictions, average = 'micro')"
   ]
  },
  {
   "cell_type": "code",
   "execution_count": 26,
   "id": "f3dc4beb",
   "metadata": {
    "execution": {
     "iopub.execute_input": "2021-11-17T16:18:16.772516Z",
     "iopub.status.busy": "2021-11-17T16:18:16.771530Z",
     "iopub.status.idle": "2021-11-17T16:18:20.891222Z",
     "shell.execute_reply": "2021-11-17T16:18:20.890530Z",
     "shell.execute_reply.started": "2021-11-17T16:16:53.731021Z"
    },
    "papermill": {
     "duration": 4.152481,
     "end_time": "2021-11-17T16:18:20.891377",
     "exception": false,
     "start_time": "2021-11-17T16:18:16.738896",
     "status": "completed"
    },
    "tags": []
   },
   "outputs": [
    {
     "data": {
      "text/plain": [
       "0.9825020112630732"
      ]
     },
     "execution_count": 26,
     "metadata": {},
     "output_type": "execute_result"
    },
    {
     "data": {
      "image/png": "[encoded data removed]",
      "text/plain": [
       "<Figure size 432x288 with 2 Axes>"
      ]
     },
     "metadata": {
      "needs_background": "light"
     },
     "output_type": "display_data"
    }
   ],
   "source": [
    "from sklearn.neighbors import KNeighborsClassifier\n",
    "model2 = KNeighborsClassifier(n_neighbors=3)\n",
    "model2.fit(Xtrain,ytrain)\n",
    "plot_confusion_matrix(model2, Xtest, ytest)\n",
    "predictions = model2.predict(Xtest)\n",
    "f1_score(ytest,predictions, average = 'micro')"
   ]
  }
 ],
 "metadata": {
  "kernelspec": {
   "display_name": "Python 3",
   "language": "python",
   "name": "python3"
  },
  "language_info": {
   "codemirror_mode": {
    "name": "ipython",
    "version": 3
   },
   "file_extension": ".py",
   "mimetype": "text/x-python",
   "name": "python",
   "nbconvert_exporter": "python",
   "pygments_lexer": "ipython3",
   "version": "3.7.10"
  },
  "papermill": {
   "default_parameters": {},
   "duration": 30.086874,
   "end_time": "2021-11-17T16:18:21.641177",
   "environment_variables": {},
   "exception": null,
   "input_path": "__notebook__.ipynb",
   "output_path": "__notebook__.ipynb",
   "parameters": {},
   "start_time": "2021-11-17T16:17:51.554303",
   "version": "2.3.3"
  }
 },
 "nbformat": 4,
 "nbformat_minor": 5
}
